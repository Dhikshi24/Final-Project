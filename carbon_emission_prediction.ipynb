{
 "cells": [
  {
   "cell_type": "markdown",
   "id": "9ed50413",
   "metadata": {},
   "source": [
    "# 🌍 Carbon Emission Prediction Model\n",
    "A machine learning model to predict CO₂ emissions using historical data."
   ]
  },
  {
   "cell_type": "code",
   "execution_count": null,
   "id": "a7e92ed2",
   "metadata": {},
   "outputs": [],
   "source": [
    "import pandas as pd\n",
    "import numpy as np\n",
    "from sklearn.ensemble import RandomForestRegressor\n",
    "from sklearn.model_selection import train_test_split\n",
    "from sklearn.preprocessing import LabelEncoder"
   ]
  },
  {
   "cell_type": "markdown",
   "id": "a0e0fa14",
   "metadata": {},
   "source": [
    "## 📥 Load and Prepare Dataset"
   ]
  },
  {
   "cell_type": "code",
   "execution_count": null,
   "id": "955b4787",
   "metadata": {},
   "outputs": [],
   "source": [
    "# Load dataset\n",
    "df = pd.read_csv(\"f90871f6-e095-47ea-8d68-4aff4b0bf44a.csv\")\n",
    "\n",
    "# Reshape and clean data\n",
    "df_long = df.melt(\n",
    "    id_vars=[\"Country code\", \"Country name\", \"Series code\", \"Series name\", \"SCALE\", \"Decimals\"],\n",
    "    var_name=\"Year\",\n",
    "    value_name=\"Value\"\n",
    ")\n",
    "df_long[\"Value\"] = df_long[\"Value\"].replace(\"..\", pd.NA)\n",
    "df_long.dropna(subset=[\"Value\"], inplace=True)\n",
    "df_long[\"Value\"] = df_long[\"Value\"].astype(float)\n",
    "df_long[\"Year\"] = df_long[\"Year\"].astype(int)"
   ]
  },
  {
   "cell_type": "markdown",
   "id": "af1b45ca",
   "metadata": {},
   "source": [
    "## 🧠 Encode Categorical Variables"
   ]
  },
  {
   "cell_type": "code",
   "execution_count": null,
   "id": "2e049cd1",
   "metadata": {},
   "outputs": [],
   "source": [
    "# Label Encoding\n",
    "le_country = LabelEncoder()\n",
    "le_series = LabelEncoder()\n",
    "df_long[\"Country_encoded\"] = le_country.fit_transform(df_long[\"Country name\"])\n",
    "df_long[\"Series_encoded\"] = le_series.fit_transform(df_long[\"Series name\"])"
   ]
  },
  {
   "cell_type": "markdown",
   "id": "a6c86002",
   "metadata": {},
   "source": [
    "## ✨ Train the Random Forest Regressor"
   ]
  },
  {
   "cell_type": "code",
   "execution_count": null,
   "id": "42ca83d7",
   "metadata": {},
   "outputs": [],
   "source": [
    "# Define features and target\n",
    "X = df_long[[\"Country_encoded\", \"Series_encoded\", \"Year\"]]\n",
    "y = df_long[\"Value\"]\n",
    "\n",
    "# Split dataset\n",
    "X_train, X_test, y_train, y_test = train_test_split(X, y, test_size=0.2, random_state=42)\n",
    "\n",
    "# Train model\n",
    "model = RandomForestRegressor(n_estimators=100, random_state=42)\n",
    "model.fit(X_train, y_train)"
   ]
  },
  {
   "cell_type": "markdown",
   "id": "9b813db0",
   "metadata": {},
   "source": [
    "## 🔮 Make Sample Predictions"
   ]
  },
  {
   "cell_type": "code",
   "execution_count": null,
   "id": "fa3f8680",
   "metadata": {},
   "outputs": [],
   "source": [
    "# Sample predictions\n",
    "X_test_sample = X_test.iloc[:5]\n",
    "y_pred_sample = model.predict(X_test_sample)\n",
    "\n",
    "# Decode results for readability\n",
    "output_sample = X_test_sample.copy()\n",
    "output_sample[\"Country\"] = le_country.inverse_transform(output_sample[\"Country_encoded\"])\n",
    "output_sample[\"Series\"] = le_series.inverse_transform(output_sample[\"Series_encoded\"])\n",
    "output_sample[\"Predicted CO₂ Emission\"] = np.round(y_pred_sample, 2)\n",
    "output_sample = output_sample[[\"Country\", \"Year\", \"Series\", \"Predicted CO₂ Emission\"]]\n",
    "output_sample.reset_index(drop=True, inplace=True)\n",
    "output_sample"
   ]
  }
 ],
 "metadata": {
  "language": "python"
 },
 "nbformat": 4,
 "nbformat_minor": 5
}
